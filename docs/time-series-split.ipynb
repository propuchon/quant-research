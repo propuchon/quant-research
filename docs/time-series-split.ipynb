{
 "cells": [
  {
   "attachments": {},
   "cell_type": "markdown",
   "metadata": {},
   "source": [
    "## Import Libraries"
   ]
  },
  {
   "cell_type": "code",
   "execution_count": 35,
   "metadata": {},
   "outputs": [],
   "source": [
    "import pandas as pd\n",
    "\n",
    "from sklearn.model_selection import TimeSeriesSplit"
   ]
  },
  {
   "attachments": {},
   "cell_type": "markdown",
   "metadata": {},
   "source": [
    "## Data"
   ]
  },
  {
   "attachments": {},
   "cell_type": "markdown",
   "metadata": {},
   "source": [
    "Create a time-series dummy"
   ]
  },
  {
   "cell_type": "code",
   "execution_count": 36,
   "metadata": {},
   "outputs": [
    {
     "data": {
      "text/html": [
       "<div>\n",
       "<style scoped>\n",
       "    .dataframe tbody tr th:only-of-type {\n",
       "        vertical-align: middle;\n",
       "    }\n",
       "\n",
       "    .dataframe tbody tr th {\n",
       "        vertical-align: top;\n",
       "    }\n",
       "\n",
       "    .dataframe thead th {\n",
       "        text-align: right;\n",
       "    }\n",
       "</style>\n",
       "<table border=\"1\" class=\"dataframe\">\n",
       "  <thead>\n",
       "    <tr style=\"text-align: right;\">\n",
       "      <th></th>\n",
       "    </tr>\n",
       "  </thead>\n",
       "  <tbody>\n",
       "    <tr>\n",
       "      <th>2010-01-01</th>\n",
       "    </tr>\n",
       "    <tr>\n",
       "      <th>2010-01-02</th>\n",
       "    </tr>\n",
       "    <tr>\n",
       "      <th>2010-01-03</th>\n",
       "    </tr>\n",
       "    <tr>\n",
       "      <th>2010-01-04</th>\n",
       "    </tr>\n",
       "    <tr>\n",
       "      <th>2010-01-05</th>\n",
       "    </tr>\n",
       "    <tr>\n",
       "      <th>...</th>\n",
       "    </tr>\n",
       "    <tr>\n",
       "      <th>2021-12-27</th>\n",
       "    </tr>\n",
       "    <tr>\n",
       "      <th>2021-12-28</th>\n",
       "    </tr>\n",
       "    <tr>\n",
       "      <th>2021-12-29</th>\n",
       "    </tr>\n",
       "    <tr>\n",
       "      <th>2021-12-30</th>\n",
       "    </tr>\n",
       "    <tr>\n",
       "      <th>2021-12-31</th>\n",
       "    </tr>\n",
       "  </tbody>\n",
       "</table>\n",
       "<p>4383 rows × 0 columns</p>\n",
       "</div>"
      ],
      "text/plain": [
       "Empty DataFrame\n",
       "Columns: []\n",
       "Index: [2010-01-01 00:00:00, 2010-01-02 00:00:00, 2010-01-03 00:00:00, 2010-01-04 00:00:00, 2010-01-05 00:00:00, 2010-01-06 00:00:00, 2010-01-07 00:00:00, 2010-01-08 00:00:00, 2010-01-09 00:00:00, 2010-01-10 00:00:00, 2010-01-11 00:00:00, 2010-01-12 00:00:00, 2010-01-13 00:00:00, 2010-01-14 00:00:00, 2010-01-15 00:00:00, 2010-01-16 00:00:00, 2010-01-17 00:00:00, 2010-01-18 00:00:00, 2010-01-19 00:00:00, 2010-01-20 00:00:00, 2010-01-21 00:00:00, 2010-01-22 00:00:00, 2010-01-23 00:00:00, 2010-01-24 00:00:00, 2010-01-25 00:00:00, 2010-01-26 00:00:00, 2010-01-27 00:00:00, 2010-01-28 00:00:00, 2010-01-29 00:00:00, 2010-01-30 00:00:00, 2010-01-31 00:00:00, 2010-02-01 00:00:00, 2010-02-02 00:00:00, 2010-02-03 00:00:00, 2010-02-04 00:00:00, 2010-02-05 00:00:00, 2010-02-06 00:00:00, 2010-02-07 00:00:00, 2010-02-08 00:00:00, 2010-02-09 00:00:00, 2010-02-10 00:00:00, 2010-02-11 00:00:00, 2010-02-12 00:00:00, 2010-02-13 00:00:00, 2010-02-14 00:00:00, 2010-02-15 00:00:00, 2010-02-16 00:00:00, 2010-02-17 00:00:00, 2010-02-18 00:00:00, 2010-02-19 00:00:00, 2010-02-20 00:00:00, 2010-02-21 00:00:00, 2010-02-22 00:00:00, 2010-02-23 00:00:00, 2010-02-24 00:00:00, 2010-02-25 00:00:00, 2010-02-26 00:00:00, 2010-02-27 00:00:00, 2010-02-28 00:00:00, 2010-03-01 00:00:00, 2010-03-02 00:00:00, 2010-03-03 00:00:00, 2010-03-04 00:00:00, 2010-03-05 00:00:00, 2010-03-06 00:00:00, 2010-03-07 00:00:00, 2010-03-08 00:00:00, 2010-03-09 00:00:00, 2010-03-10 00:00:00, 2010-03-11 00:00:00, 2010-03-12 00:00:00, 2010-03-13 00:00:00, 2010-03-14 00:00:00, 2010-03-15 00:00:00, 2010-03-16 00:00:00, 2010-03-17 00:00:00, 2010-03-18 00:00:00, 2010-03-19 00:00:00, 2010-03-20 00:00:00, 2010-03-21 00:00:00, 2010-03-22 00:00:00, 2010-03-23 00:00:00, 2010-03-24 00:00:00, 2010-03-25 00:00:00, 2010-03-26 00:00:00, 2010-03-27 00:00:00, 2010-03-28 00:00:00, 2010-03-29 00:00:00, 2010-03-30 00:00:00, 2010-03-31 00:00:00, 2010-04-01 00:00:00, 2010-04-02 00:00:00, 2010-04-03 00:00:00, 2010-04-04 00:00:00, 2010-04-05 00:00:00, 2010-04-06 00:00:00, 2010-04-07 00:00:00, 2010-04-08 00:00:00, 2010-04-09 00:00:00, 2010-04-10 00:00:00, ...]\n",
       "\n",
       "[4383 rows x 0 columns]"
      ]
     },
     "execution_count": 36,
     "metadata": {},
     "output_type": "execute_result"
    }
   ],
   "source": [
    "data = pd.DataFrame(index=pd.date_range(\"2010-01-01\", \"2021-12-31\", freq=\"D\"))\n",
    "data"
   ]
  },
  {
   "attachments": {},
   "cell_type": "markdown",
   "metadata": {},
   "source": [
    "## Cross-validation methodology"
   ]
  },
  {
   "attachments": {},
   "cell_type": "markdown",
   "metadata": {},
   "source": [
    "### Expanding Window"
   ]
  },
  {
   "cell_type": "code",
   "execution_count": 41,
   "metadata": {},
   "outputs": [
    {
     "name": "stdout",
     "output_type": "stream",
     "text": [
      "--------------------\n",
      "Fold:  1\n",
      "Training data shape: (2558, 0)\n",
      "Testing data shape: (365, 0)\n",
      "Training date: 2010-01-01 00:00:00 - 2017-01-01 00:00:00\n",
      "Testing date: 2017-01-02 00:00:00 - 2018-01-01 00:00:00\n",
      "--------------------\n",
      "Fold:  2\n",
      "Training data shape: (2923, 0)\n",
      "Testing data shape: (365, 0)\n",
      "Training date: 2010-01-01 00:00:00 - 2018-01-01 00:00:00\n",
      "Testing date: 2018-01-02 00:00:00 - 2019-01-01 00:00:00\n",
      "--------------------\n",
      "Fold:  3\n",
      "Training data shape: (3288, 0)\n",
      "Testing data shape: (365, 0)\n",
      "Training date: 2010-01-01 00:00:00 - 2019-01-01 00:00:00\n",
      "Testing date: 2019-01-02 00:00:00 - 2020-01-01 00:00:00\n",
      "--------------------\n",
      "Fold:  4\n",
      "Training data shape: (3653, 0)\n",
      "Testing data shape: (365, 0)\n",
      "Training date: 2010-01-01 00:00:00 - 2020-01-01 00:00:00\n",
      "Testing date: 2020-01-02 00:00:00 - 2020-12-31 00:00:00\n",
      "--------------------\n",
      "Fold:  5\n",
      "Training data shape: (4018, 0)\n",
      "Testing data shape: (365, 0)\n",
      "Training date: 2010-01-01 00:00:00 - 2020-12-31 00:00:00\n",
      "Testing date: 2021-01-01 00:00:00 - 2021-12-31 00:00:00\n"
     ]
    }
   ],
   "source": [
    "n_splits = 5\n",
    "\n",
    "tscv = TimeSeriesSplit(n_splits=n_splits, test_size=365)\n",
    "\n",
    "# Perform cross-validation on the data\n",
    "for k_fold, (train_index, test_index) in enumerate(tscv.split(data)):\n",
    "    train_data = data.iloc[train_index]\n",
    "    test_data = data.iloc[test_index]\n",
    "\n",
    "    # train and evaluate your model on each fold\n",
    "    # ...\n",
    "\n",
    "    print(\"--------------------\")\n",
    "    # number of fold\n",
    "    print(\"Fold: \", k_fold + 1)\n",
    "    # Print the shapes of the training and testing sets for each fold\n",
    "    print(\"Training data shape:\", train_data.shape)\n",
    "    print(\"Testing data shape:\", test_data.shape)\n",
    "    # Print the period of the training and testing sets for each fold\n",
    "    print(\"Training date:\", train_data.index[0], \"-\", train_data.index[-1])\n",
    "    print(\"Testing date:\", test_data.index[0], \"-\", test_data.index[-1])"
   ]
  },
  {
   "attachments": {},
   "cell_type": "markdown",
   "metadata": {},
   "source": [
    "### Sliding Window"
   ]
  },
  {
   "cell_type": "code",
   "execution_count": 46,
   "metadata": {},
   "outputs": [
    {
     "name": "stdout",
     "output_type": "stream",
     "text": [
      "--------------------\n",
      "Fold:  1\n",
      "Training data shape: (876, 0)\n",
      "Testing data shape: (365, 0)\n",
      "Training date: 2014-08-10 00:00:00 - 2017-01-01 00:00:00\n",
      "Testing date: 2017-01-02 00:00:00 - 2018-01-01 00:00:00\n",
      "--------------------\n",
      "Fold:  2\n",
      "Training data shape: (876, 0)\n",
      "Testing data shape: (365, 0)\n",
      "Training date: 2015-08-10 00:00:00 - 2018-01-01 00:00:00\n",
      "Testing date: 2018-01-02 00:00:00 - 2019-01-01 00:00:00\n",
      "--------------------\n",
      "Fold:  3\n",
      "Training data shape: (876, 0)\n",
      "Testing data shape: (365, 0)\n",
      "Training date: 2016-08-09 00:00:00 - 2019-01-01 00:00:00\n",
      "Testing date: 2019-01-02 00:00:00 - 2020-01-01 00:00:00\n",
      "--------------------\n",
      "Fold:  4\n",
      "Training data shape: (876, 0)\n",
      "Testing data shape: (365, 0)\n",
      "Training date: 2017-08-09 00:00:00 - 2020-01-01 00:00:00\n",
      "Testing date: 2020-01-02 00:00:00 - 2020-12-31 00:00:00\n",
      "--------------------\n",
      "Fold:  5\n",
      "Training data shape: (876, 0)\n",
      "Testing data shape: (365, 0)\n",
      "Training date: 2018-08-09 00:00:00 - 2020-12-31 00:00:00\n",
      "Testing date: 2021-01-01 00:00:00 - 2021-12-31 00:00:00\n"
     ]
    }
   ],
   "source": [
    "n_splits = 5\n",
    "max_train_size = len(data) // n_splits\n",
    "\n",
    "tscv = TimeSeriesSplit(n_splits=n_splits, max_train_size=max_train_size, test_size=365)\n",
    "\n",
    "# Perform cross-validation on the data\n",
    "for k_fold, (train_index, test_index) in enumerate(tscv.split(data)):\n",
    "    train_data = data.iloc[train_index]\n",
    "    test_data = data.iloc[test_index]\n",
    "\n",
    "    # train and evaluate your model on each fold\n",
    "    # ...\n",
    "\n",
    "    print(\"--------------------\")\n",
    "    # number of fold\n",
    "    print(\"Fold: \", k_fold + 1)\n",
    "    # Prsint the shapes of the training and testing sets for each fold\n",
    "    print(\"Training data shape:\", train_data.shape)\n",
    "    print(\"Testing data shape:\", test_data.shape)\n",
    "    # Print the period of the training and testing sets for each fold\n",
    "    print(\"Training date:\", train_data.index[0], \"-\", train_data.index[-1])\n",
    "    print(\"Testing date:\", test_data.index[0], \"-\", test_data.index[-1])"
   ]
  },
  {
   "cell_type": "code",
   "execution_count": null,
   "metadata": {},
   "outputs": [],
   "source": []
  }
 ],
 "metadata": {
  "kernelspec": {
   "display_name": "investic",
   "language": "python",
   "name": "python3"
  },
  "language_info": {
   "codemirror_mode": {
    "name": "ipython",
    "version": 3
   },
   "file_extension": ".py",
   "mimetype": "text/x-python",
   "name": "python",
   "nbconvert_exporter": "python",
   "pygments_lexer": "ipython3",
   "version": "3.9.13"
  },
  "orig_nbformat": 4
 },
 "nbformat": 4,
 "nbformat_minor": 2
}
